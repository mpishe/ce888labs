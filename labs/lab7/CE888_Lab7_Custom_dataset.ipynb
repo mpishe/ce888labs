{
  "nbformat": 4,
  "nbformat_minor": 0,
  "metadata": {
    "colab": {
      "name": "CE888 Lab7 Custom dataset.ipynb",
      "version": "0.3.2",
      "provenance": [],
      "collapsed_sections": []
    },
    "kernelspec": {
      "name": "python3",
      "display_name": "Python 3"
    },
    "accelerator": "GPU"
  },
  "cells": [
    {
      "metadata": {
        "id": "o5CrldDz4X5Y",
        "colab_type": "code",
        "outputId": "eeb5abad-ba98-4006-d720-bd4411ca4f71",
        "colab": {
          "base_uri": "https://localhost:8080/",
          "height": 34
        }
      },
      "cell_type": "code",
      "source": [
        "# Upload data\n",
        "from zipfile import ZipFile\n",
        "file_name = \"101_data.zip\"\n",
        "\n",
        "with ZipFile(file_name, 'r') as zip:\n",
        "  zip.extractall()\n",
        "  print('done')"
      ],
      "execution_count": 7,
      "outputs": [
        {
          "output_type": "stream",
          "text": [
            "done\n"
          ],
          "name": "stdout"
        }
      ]
    },
    {
      "metadata": {
        "id": "urruzXhnC8ui",
        "colab_type": "code",
        "colab": {
          "base_uri": "https://localhost:8080/",
          "height": 306
        },
        "outputId": "10714f59-bed6-41b1-c3fb-c1cf3feaa4d1"
      },
      "cell_type": "code",
      "source": [
        "!pip install tensorflow==1.3.0\n",
        "!pip install keras==2.0.7"
      ],
      "execution_count": 8,
      "outputs": [
        {
          "output_type": "stream",
          "text": [
            "Requirement already satisfied: tensorflow==1.3.0 in /usr/local/lib/python3.6/dist-packages (1.3.0)\n",
            "Requirement already satisfied: six>=1.10.0 in /usr/local/lib/python3.6/dist-packages (from tensorflow==1.3.0) (1.11.0)\n",
            "Requirement already satisfied: wheel>=0.26 in /usr/local/lib/python3.6/dist-packages (from tensorflow==1.3.0) (0.33.0)\n",
            "Requirement already satisfied: tensorflow-tensorboard<0.2.0,>=0.1.0 in /usr/local/lib/python3.6/dist-packages (from tensorflow==1.3.0) (0.1.8)\n",
            "Requirement already satisfied: protobuf>=3.3.0 in /usr/local/lib/python3.6/dist-packages (from tensorflow==1.3.0) (3.6.1)\n",
            "Requirement already satisfied: numpy>=1.11.0 in /usr/local/lib/python3.6/dist-packages (from tensorflow==1.3.0) (1.14.6)\n",
            "Requirement already satisfied: markdown>=2.6.8 in /usr/local/lib/python3.6/dist-packages (from tensorflow-tensorboard<0.2.0,>=0.1.0->tensorflow==1.3.0) (3.0.1)\n",
            "Requirement already satisfied: html5lib==0.9999999 in /usr/local/lib/python3.6/dist-packages (from tensorflow-tensorboard<0.2.0,>=0.1.0->tensorflow==1.3.0) (0.9999999)\n",
            "Requirement already satisfied: bleach==1.5.0 in /usr/local/lib/python3.6/dist-packages (from tensorflow-tensorboard<0.2.0,>=0.1.0->tensorflow==1.3.0) (1.5.0)\n",
            "Requirement already satisfied: werkzeug>=0.11.10 in /usr/local/lib/python3.6/dist-packages (from tensorflow-tensorboard<0.2.0,>=0.1.0->tensorflow==1.3.0) (0.14.1)\n",
            "Requirement already satisfied: setuptools in /usr/local/lib/python3.6/dist-packages (from protobuf>=3.3.0->tensorflow==1.3.0) (40.8.0)\n",
            "Requirement already satisfied: keras==2.0.7 in /usr/local/lib/python3.6/dist-packages (2.0.7)\n",
            "Requirement already satisfied: theano in /usr/local/lib/python3.6/dist-packages (from keras==2.0.7) (1.0.4)\n",
            "Requirement already satisfied: pyyaml in /usr/local/lib/python3.6/dist-packages (from keras==2.0.7) (3.13)\n",
            "Requirement already satisfied: six in /usr/local/lib/python3.6/dist-packages (from keras==2.0.7) (1.11.0)\n",
            "Requirement already satisfied: numpy>=1.9.1 in /usr/local/lib/python3.6/dist-packages (from theano->keras==2.0.7) (1.14.6)\n",
            "Requirement already satisfied: scipy>=0.14 in /usr/local/lib/python3.6/dist-packages (from theano->keras==2.0.7) (1.1.0)\n"
          ],
          "name": "stdout"
        }
      ]
    },
    {
      "metadata": {
        "id": "0ASKic2nBPcq",
        "colab_type": "code",
        "colab": {}
      },
      "cell_type": "code",
      "source": [
        "import numpy as np\n",
        "import os\n",
        "import time\n",
        "from vgg16 import VGG16\n",
        "from keras.preprocessing import image\n",
        "from keras.applications.imagenet_utils import preprocess_input\n",
        "from keras.applications.imagenet_utils import decode_predictions\n",
        "from keras.layers import Dense, Activation, Flatten\n",
        "from keras.layers import merge, Input\n",
        "from keras.models import Model\n",
        "from keras.utils import np_utils\n",
        "from sklearn.utils import shuffle\n",
        "from sklearn.model_selection import train_test_split"
      ],
      "execution_count": 0,
      "outputs": []
    },
    {
      "metadata": {
        "id": "OaATsq5QDDaS",
        "colab_type": "code",
        "colab": {}
      },
      "cell_type": "code",
      "source": [
        "#%% Loading the training data\n",
        "PATH = os.getcwd()\n",
        "# Define data path\n",
        "data_path = PATH + '/101_data'\n",
        "data_dir_list = os.listdir(data_path)"
      ],
      "execution_count": 0,
      "outputs": []
    },
    {
      "metadata": {
        "id": "bST41dbEDmr6",
        "colab_type": "code",
        "colab": {
          "base_uri": "https://localhost:8080/",
          "height": 34
        },
        "outputId": "9f6e16d7-ac82-4f0b-f571-d735482dd963"
      },
      "cell_type": "code",
      "source": [
        "print(data_dir_list)"
      ],
      "execution_count": 11,
      "outputs": [
        {
          "output_type": "stream",
          "text": [
            "['scissors', 'pizza', 'chair', 'brain']\n"
          ],
          "name": "stdout"
        }
      ]
    },
    {
      "metadata": {
        "id": "vrCqflW5DDea",
        "colab_type": "code",
        "colab": {
          "base_uri": "https://localhost:8080/",
          "height": 4488
        },
        "outputId": "5ea36351-c43d-48e3-e94a-458792092bb0"
      },
      "cell_type": "code",
      "source": [
        "img_data_list=[] # created an empty list for images to be loaded\n",
        "\n",
        "for dataset in data_dir_list:\n",
        "\timg_list=os.listdir(data_path+'/'+ dataset)\n",
        "\tprint ('Loaded the images of dataset-'+'{}\\n'.format(dataset))\n",
        "\tfor img in img_list:\n",
        "\t\timg_path = data_path + '/'+ dataset + '/'+ img\n",
        "\t\timg = image.load_img(img_path, target_size=(224, 224))\n",
        "\t\tx = image.img_to_array(img)\n",
        "\t\tx = np.expand_dims(x, axis=0)\n",
        "\t\tx = preprocess_input(x)\n",
        "#\t\tx = x/255\n",
        "\t\tprint('Input image shape:', x.shape)\n",
        "\t\timg_data_list.append(x)\n",
        "\n",
        "#%% \n",
        "img_data = np.array(img_data_list)\n",
        "#img_data = img_data.astype('float32')\n",
        "print (img_data.shape)\n",
        "img_data=np.rollaxis(img_data,1,0)\n",
        "print (img_data.shape)\n",
        "img_data=img_data[0]\n",
        "print (img_data.shape)"
      ],
      "execution_count": 12,
      "outputs": [
        {
          "output_type": "stream",
          "text": [
            "Loaded the images of dataset-scissors\n",
            "\n",
            "Input image shape: (1, 224, 224, 3)\n",
            "Input image shape: (1, 224, 224, 3)\n",
            "Input image shape: (1, 224, 224, 3)\n",
            "Input image shape: (1, 224, 224, 3)\n",
            "Input image shape: (1, 224, 224, 3)\n",
            "Input image shape: (1, 224, 224, 3)\n",
            "Input image shape: (1, 224, 224, 3)\n",
            "Input image shape: (1, 224, 224, 3)\n",
            "Input image shape: (1, 224, 224, 3)\n",
            "Input image shape: (1, 224, 224, 3)\n",
            "Input image shape: (1, 224, 224, 3)\n",
            "Input image shape: (1, 224, 224, 3)\n",
            "Input image shape: (1, 224, 224, 3)\n",
            "Input image shape: (1, 224, 224, 3)\n",
            "Input image shape: (1, 224, 224, 3)\n",
            "Input image shape: (1, 224, 224, 3)\n",
            "Input image shape: (1, 224, 224, 3)\n",
            "Input image shape: (1, 224, 224, 3)\n",
            "Input image shape: (1, 224, 224, 3)\n",
            "Input image shape: (1, 224, 224, 3)\n",
            "Input image shape: (1, 224, 224, 3)\n",
            "Input image shape: (1, 224, 224, 3)\n",
            "Input image shape: (1, 224, 224, 3)\n",
            "Input image shape: (1, 224, 224, 3)\n",
            "Input image shape: (1, 224, 224, 3)\n",
            "Input image shape: (1, 224, 224, 3)\n",
            "Input image shape: (1, 224, 224, 3)\n",
            "Input image shape: (1, 224, 224, 3)\n",
            "Input image shape: (1, 224, 224, 3)\n",
            "Input image shape: (1, 224, 224, 3)\n",
            "Input image shape: (1, 224, 224, 3)\n",
            "Input image shape: (1, 224, 224, 3)\n",
            "Input image shape: (1, 224, 224, 3)\n",
            "Input image shape: (1, 224, 224, 3)\n",
            "Input image shape: (1, 224, 224, 3)\n",
            "Input image shape: (1, 224, 224, 3)\n",
            "Input image shape: (1, 224, 224, 3)\n",
            "Input image shape: (1, 224, 224, 3)\n",
            "Input image shape: (1, 224, 224, 3)\n",
            "Loaded the images of dataset-pizza\n",
            "\n",
            "Input image shape: (1, 224, 224, 3)\n",
            "Input image shape: (1, 224, 224, 3)\n",
            "Input image shape: (1, 224, 224, 3)\n",
            "Input image shape: (1, 224, 224, 3)\n",
            "Input image shape: (1, 224, 224, 3)\n",
            "Input image shape: (1, 224, 224, 3)\n",
            "Input image shape: (1, 224, 224, 3)\n",
            "Input image shape: (1, 224, 224, 3)\n",
            "Input image shape: (1, 224, 224, 3)\n",
            "Input image shape: (1, 224, 224, 3)\n",
            "Input image shape: (1, 224, 224, 3)\n",
            "Input image shape: (1, 224, 224, 3)\n",
            "Input image shape: (1, 224, 224, 3)\n",
            "Input image shape: (1, 224, 224, 3)\n",
            "Input image shape: (1, 224, 224, 3)\n",
            "Input image shape: (1, 224, 224, 3)\n",
            "Input image shape: (1, 224, 224, 3)\n",
            "Input image shape: (1, 224, 224, 3)\n",
            "Input image shape: (1, 224, 224, 3)\n",
            "Input image shape: (1, 224, 224, 3)\n",
            "Input image shape: (1, 224, 224, 3)\n",
            "Input image shape: (1, 224, 224, 3)\n",
            "Input image shape: (1, 224, 224, 3)\n",
            "Input image shape: (1, 224, 224, 3)\n",
            "Input image shape: (1, 224, 224, 3)\n",
            "Input image shape: (1, 224, 224, 3)\n",
            "Input image shape: (1, 224, 224, 3)\n",
            "Input image shape: (1, 224, 224, 3)\n",
            "Input image shape: (1, 224, 224, 3)\n",
            "Input image shape: (1, 224, 224, 3)\n",
            "Input image shape: (1, 224, 224, 3)\n",
            "Input image shape: (1, 224, 224, 3)\n",
            "Input image shape: (1, 224, 224, 3)\n",
            "Input image shape: (1, 224, 224, 3)\n",
            "Input image shape: (1, 224, 224, 3)\n",
            "Input image shape: (1, 224, 224, 3)\n",
            "Input image shape: (1, 224, 224, 3)\n",
            "Input image shape: (1, 224, 224, 3)\n",
            "Input image shape: (1, 224, 224, 3)\n",
            "Input image shape: (1, 224, 224, 3)\n",
            "Input image shape: (1, 224, 224, 3)\n",
            "Input image shape: (1, 224, 224, 3)\n",
            "Input image shape: (1, 224, 224, 3)\n",
            "Input image shape: (1, 224, 224, 3)\n",
            "Input image shape: (1, 224, 224, 3)\n",
            "Input image shape: (1, 224, 224, 3)\n",
            "Input image shape: (1, 224, 224, 3)\n",
            "Input image shape: (1, 224, 224, 3)\n",
            "Input image shape: (1, 224, 224, 3)\n",
            "Input image shape: (1, 224, 224, 3)\n",
            "Input image shape: (1, 224, 224, 3)\n",
            "Input image shape: (1, 224, 224, 3)\n",
            "Input image shape: (1, 224, 224, 3)\n",
            "Loaded the images of dataset-chair\n",
            "\n",
            "Input image shape: (1, 224, 224, 3)\n",
            "Input image shape: (1, 224, 224, 3)\n",
            "Input image shape: (1, 224, 224, 3)\n",
            "Input image shape: (1, 224, 224, 3)\n",
            "Input image shape: (1, 224, 224, 3)\n",
            "Input image shape: (1, 224, 224, 3)\n",
            "Input image shape: (1, 224, 224, 3)\n",
            "Input image shape: (1, 224, 224, 3)\n",
            "Input image shape: (1, 224, 224, 3)\n",
            "Input image shape: (1, 224, 224, 3)\n",
            "Input image shape: (1, 224, 224, 3)\n",
            "Input image shape: (1, 224, 224, 3)\n",
            "Input image shape: (1, 224, 224, 3)\n",
            "Input image shape: (1, 224, 224, 3)\n",
            "Input image shape: (1, 224, 224, 3)\n",
            "Input image shape: (1, 224, 224, 3)\n",
            "Input image shape: (1, 224, 224, 3)\n",
            "Input image shape: (1, 224, 224, 3)\n",
            "Input image shape: (1, 224, 224, 3)\n",
            "Input image shape: (1, 224, 224, 3)\n",
            "Input image shape: (1, 224, 224, 3)\n",
            "Input image shape: (1, 224, 224, 3)\n",
            "Input image shape: (1, 224, 224, 3)\n",
            "Input image shape: (1, 224, 224, 3)\n",
            "Input image shape: (1, 224, 224, 3)\n",
            "Input image shape: (1, 224, 224, 3)\n",
            "Input image shape: (1, 224, 224, 3)\n",
            "Input image shape: (1, 224, 224, 3)\n",
            "Input image shape: (1, 224, 224, 3)\n",
            "Input image shape: (1, 224, 224, 3)\n",
            "Input image shape: (1, 224, 224, 3)\n",
            "Input image shape: (1, 224, 224, 3)\n",
            "Input image shape: (1, 224, 224, 3)\n",
            "Input image shape: (1, 224, 224, 3)\n",
            "Input image shape: (1, 224, 224, 3)\n",
            "Input image shape: (1, 224, 224, 3)\n",
            "Input image shape: (1, 224, 224, 3)\n",
            "Input image shape: (1, 224, 224, 3)\n",
            "Input image shape: (1, 224, 224, 3)\n",
            "Input image shape: (1, 224, 224, 3)\n",
            "Input image shape: (1, 224, 224, 3)\n",
            "Input image shape: (1, 224, 224, 3)\n",
            "Input image shape: (1, 224, 224, 3)\n",
            "Input image shape: (1, 224, 224, 3)\n",
            "Input image shape: (1, 224, 224, 3)\n",
            "Input image shape: (1, 224, 224, 3)\n",
            "Input image shape: (1, 224, 224, 3)\n",
            "Input image shape: (1, 224, 224, 3)\n",
            "Input image shape: (1, 224, 224, 3)\n",
            "Input image shape: (1, 224, 224, 3)\n",
            "Input image shape: (1, 224, 224, 3)\n",
            "Input image shape: (1, 224, 224, 3)\n",
            "Input image shape: (1, 224, 224, 3)\n",
            "Input image shape: (1, 224, 224, 3)\n",
            "Input image shape: (1, 224, 224, 3)\n",
            "Input image shape: (1, 224, 224, 3)\n",
            "Input image shape: (1, 224, 224, 3)\n",
            "Input image shape: (1, 224, 224, 3)\n",
            "Input image shape: (1, 224, 224, 3)\n",
            "Input image shape: (1, 224, 224, 3)\n",
            "Input image shape: (1, 224, 224, 3)\n",
            "Input image shape: (1, 224, 224, 3)\n",
            "Loaded the images of dataset-brain\n",
            "\n",
            "Input image shape: (1, 224, 224, 3)\n",
            "Input image shape: (1, 224, 224, 3)\n",
            "Input image shape: (1, 224, 224, 3)\n",
            "Input image shape: (1, 224, 224, 3)\n",
            "Input image shape: (1, 224, 224, 3)\n",
            "Input image shape: (1, 224, 224, 3)\n",
            "Input image shape: (1, 224, 224, 3)\n",
            "Input image shape: (1, 224, 224, 3)\n",
            "Input image shape: (1, 224, 224, 3)\n",
            "Input image shape: (1, 224, 224, 3)\n",
            "Input image shape: (1, 224, 224, 3)\n",
            "Input image shape: (1, 224, 224, 3)\n",
            "Input image shape: (1, 224, 224, 3)\n",
            "Input image shape: (1, 224, 224, 3)\n",
            "Input image shape: (1, 224, 224, 3)\n",
            "Input image shape: (1, 224, 224, 3)\n",
            "Input image shape: (1, 224, 224, 3)\n",
            "Input image shape: (1, 224, 224, 3)\n",
            "Input image shape: (1, 224, 224, 3)\n",
            "Input image shape: (1, 224, 224, 3)\n",
            "Input image shape: (1, 224, 224, 3)\n",
            "Input image shape: (1, 224, 224, 3)\n",
            "Input image shape: (1, 224, 224, 3)\n",
            "Input image shape: (1, 224, 224, 3)\n",
            "Input image shape: (1, 224, 224, 3)\n",
            "Input image shape: (1, 224, 224, 3)\n",
            "Input image shape: (1, 224, 224, 3)\n",
            "Input image shape: (1, 224, 224, 3)\n",
            "Input image shape: (1, 224, 224, 3)\n",
            "Input image shape: (1, 224, 224, 3)\n",
            "Input image shape: (1, 224, 224, 3)\n",
            "Input image shape: (1, 224, 224, 3)\n",
            "Input image shape: (1, 224, 224, 3)\n",
            "Input image shape: (1, 224, 224, 3)\n",
            "Input image shape: (1, 224, 224, 3)\n",
            "Input image shape: (1, 224, 224, 3)\n",
            "Input image shape: (1, 224, 224, 3)\n",
            "Input image shape: (1, 224, 224, 3)\n",
            "Input image shape: (1, 224, 224, 3)\n",
            "Input image shape: (1, 224, 224, 3)\n",
            "Input image shape: (1, 224, 224, 3)\n",
            "Input image shape: (1, 224, 224, 3)\n",
            "Input image shape: (1, 224, 224, 3)\n",
            "Input image shape: (1, 224, 224, 3)\n",
            "Input image shape: (1, 224, 224, 3)\n",
            "Input image shape: (1, 224, 224, 3)\n",
            "Input image shape: (1, 224, 224, 3)\n",
            "Input image shape: (1, 224, 224, 3)\n",
            "Input image shape: (1, 224, 224, 3)\n",
            "Input image shape: (1, 224, 224, 3)\n",
            "Input image shape: (1, 224, 224, 3)\n",
            "Input image shape: (1, 224, 224, 3)\n",
            "Input image shape: (1, 224, 224, 3)\n",
            "Input image shape: (1, 224, 224, 3)\n",
            "Input image shape: (1, 224, 224, 3)\n",
            "Input image shape: (1, 224, 224, 3)\n",
            "Input image shape: (1, 224, 224, 3)\n",
            "Input image shape: (1, 224, 224, 3)\n",
            "Input image shape: (1, 224, 224, 3)\n",
            "Input image shape: (1, 224, 224, 3)\n",
            "Input image shape: (1, 224, 224, 3)\n",
            "Input image shape: (1, 224, 224, 3)\n",
            "Input image shape: (1, 224, 224, 3)\n",
            "Input image shape: (1, 224, 224, 3)\n",
            "Input image shape: (1, 224, 224, 3)\n",
            "Input image shape: (1, 224, 224, 3)\n",
            "Input image shape: (1, 224, 224, 3)\n",
            "Input image shape: (1, 224, 224, 3)\n",
            "Input image shape: (1, 224, 224, 3)\n",
            "Input image shape: (1, 224, 224, 3)\n",
            "Input image shape: (1, 224, 224, 3)\n",
            "Input image shape: (1, 224, 224, 3)\n",
            "Input image shape: (1, 224, 224, 3)\n",
            "Input image shape: (1, 224, 224, 3)\n",
            "Input image shape: (1, 224, 224, 3)\n",
            "Input image shape: (1, 224, 224, 3)\n",
            "Input image shape: (1, 224, 224, 3)\n",
            "Input image shape: (1, 224, 224, 3)\n",
            "Input image shape: (1, 224, 224, 3)\n",
            "Input image shape: (1, 224, 224, 3)\n",
            "Input image shape: (1, 224, 224, 3)\n",
            "Input image shape: (1, 224, 224, 3)\n",
            "Input image shape: (1, 224, 224, 3)\n",
            "Input image shape: (1, 224, 224, 3)\n",
            "Input image shape: (1, 224, 224, 3)\n",
            "Input image shape: (1, 224, 224, 3)\n",
            "Input image shape: (1, 224, 224, 3)\n",
            "Input image shape: (1, 224, 224, 3)\n",
            "Input image shape: (1, 224, 224, 3)\n",
            "Input image shape: (1, 224, 224, 3)\n",
            "Input image shape: (1, 224, 224, 3)\n",
            "Input image shape: (1, 224, 224, 3)\n",
            "Input image shape: (1, 224, 224, 3)\n",
            "Input image shape: (1, 224, 224, 3)\n",
            "Input image shape: (1, 224, 224, 3)\n",
            "Input image shape: (1, 224, 224, 3)\n",
            "Input image shape: (1, 224, 224, 3)\n",
            "Input image shape: (1, 224, 224, 3)\n",
            "(252, 1, 224, 224, 3)\n",
            "(1, 252, 224, 224, 3)\n",
            "(252, 224, 224, 3)\n"
          ],
          "name": "stdout"
        }
      ]
    },
    {
      "metadata": {
        "id": "LKBFRxr6DDip",
        "colab_type": "code",
        "colab": {
          "base_uri": "https://localhost:8080/",
          "height": 34
        },
        "outputId": "bd3f6213-3b99-4f84-a3da-7a53d8ed638f"
      },
      "cell_type": "code",
      "source": [
        "# Define the number of classes\n",
        "num_classes = 4\n",
        "print(img_data.shape[0])\n",
        "num_of_samples = img_data.shape[0]\n",
        "labels = np.ones((num_of_samples,),dtype='int64')\n",
        "\n",
        "labels[0:39]=0\n",
        "labels[39:92]=1\n",
        "labels[92:154]=2\n",
        "labels[154:]=3\n",
        "\n",
        "names = ['scissors', 'pizza', 'chair', 'brain']\n",
        "\n",
        "# convert class labels to on-hot encoding\n",
        "Y = np_utils.to_categorical(labels, num_classes)\n",
        "\n",
        "#Shuffle the dataset\n",
        "x,y = shuffle(img_data,Y, random_state=2)\n",
        "# Split the dataset\n",
        "X_train, X_test, y_train, y_test = train_test_split(x, y, test_size=0.2, random_state=2)\n"
      ],
      "execution_count": 13,
      "outputs": [
        {
          "output_type": "stream",
          "text": [
            "252\n"
          ],
          "name": "stdout"
        }
      ]
    },
    {
      "metadata": {
        "id": "X59ltwRK8ExR",
        "colab_type": "code",
        "outputId": "ee7a04b6-8215-4c00-afac-b0e0f17f9776",
        "colab": {
          "base_uri": "https://localhost:8080/",
          "height": 918
        }
      },
      "cell_type": "code",
      "source": [
        "#%% Fine Tuning\n",
        "\n",
        "image_input = Input(shape=(224, 224, 3))\n",
        "\n",
        "model = VGG16(input_tensor=image_input, include_top=True,weights='imagenet')\n",
        "\n",
        "model.summary()"
      ],
      "execution_count": 14,
      "outputs": [
        {
          "output_type": "stream",
          "text": [
            "_________________________________________________________________\n",
            "Layer (type)                 Output Shape              Param #   \n",
            "=================================================================\n",
            "input_3 (InputLayer)         (None, 224, 224, 3)       0         \n",
            "_________________________________________________________________\n",
            "block1_conv1 (Conv2D)        (None, 224, 224, 64)      1792      \n",
            "_________________________________________________________________\n",
            "block1_conv2 (Conv2D)        (None, 224, 224, 64)      36928     \n",
            "_________________________________________________________________\n",
            "block1_pool (MaxPooling2D)   (None, 112, 112, 64)      0         \n",
            "_________________________________________________________________\n",
            "block2_conv1 (Conv2D)        (None, 112, 112, 128)     73856     \n",
            "_________________________________________________________________\n",
            "block2_conv2 (Conv2D)        (None, 112, 112, 128)     147584    \n",
            "_________________________________________________________________\n",
            "block2_pool (MaxPooling2D)   (None, 56, 56, 128)       0         \n",
            "_________________________________________________________________\n",
            "block3_conv1 (Conv2D)        (None, 56, 56, 256)       295168    \n",
            "_________________________________________________________________\n",
            "block3_conv2 (Conv2D)        (None, 56, 56, 256)       590080    \n",
            "_________________________________________________________________\n",
            "block3_conv3 (Conv2D)        (None, 56, 56, 256)       590080    \n",
            "_________________________________________________________________\n",
            "block3_pool (MaxPooling2D)   (None, 28, 28, 256)       0         \n",
            "_________________________________________________________________\n",
            "block4_conv1 (Conv2D)        (None, 28, 28, 512)       1180160   \n",
            "_________________________________________________________________\n",
            "block4_conv2 (Conv2D)        (None, 28, 28, 512)       2359808   \n",
            "_________________________________________________________________\n",
            "block4_conv3 (Conv2D)        (None, 28, 28, 512)       2359808   \n",
            "_________________________________________________________________\n",
            "block4_pool (MaxPooling2D)   (None, 14, 14, 512)       0         \n",
            "_________________________________________________________________\n",
            "block5_conv1 (Conv2D)        (None, 14, 14, 512)       2359808   \n",
            "_________________________________________________________________\n",
            "block5_conv2 (Conv2D)        (None, 14, 14, 512)       2359808   \n",
            "_________________________________________________________________\n",
            "block5_conv3 (Conv2D)        (None, 14, 14, 512)       2359808   \n",
            "_________________________________________________________________\n",
            "block5_pool (MaxPooling2D)   (None, 7, 7, 512)         0         \n",
            "_________________________________________________________________\n",
            "flatten (Flatten)            (None, 25088)             0         \n",
            "_________________________________________________________________\n",
            "fc1 (Dense)                  (None, 4096)              102764544 \n",
            "_________________________________________________________________\n",
            "fc2 (Dense)                  (None, 4096)              16781312  \n",
            "_________________________________________________________________\n",
            "predictions (Dense)          (None, 1000)              4097000   \n",
            "=================================================================\n",
            "Total params: 138,357,544\n",
            "Trainable params: 138,357,544\n",
            "Non-trainable params: 0\n",
            "_________________________________________________________________\n"
          ],
          "name": "stdout"
        }
      ]
    },
    {
      "metadata": {
        "id": "1JoHLP1u8aPm",
        "colab_type": "code",
        "colab": {
          "base_uri": "https://localhost:8080/",
          "height": 918
        },
        "outputId": "7ceeadec-d4cf-4ccb-83ee-97655db08b7f"
      },
      "cell_type": "code",
      "source": [
        "last_layer = model.get_layer('fc2').output\n",
        "#x= Flatten(name='flatten')(last_layer)\n",
        "out = Dense(num_classes, activation='softmax', name='output')(last_layer)\n",
        "custom_vgg_model = Model(image_input, out)\n",
        "custom_vgg_model.summary()"
      ],
      "execution_count": 15,
      "outputs": [
        {
          "output_type": "stream",
          "text": [
            "_________________________________________________________________\n",
            "Layer (type)                 Output Shape              Param #   \n",
            "=================================================================\n",
            "input_3 (InputLayer)         (None, 224, 224, 3)       0         \n",
            "_________________________________________________________________\n",
            "block1_conv1 (Conv2D)        (None, 224, 224, 64)      1792      \n",
            "_________________________________________________________________\n",
            "block1_conv2 (Conv2D)        (None, 224, 224, 64)      36928     \n",
            "_________________________________________________________________\n",
            "block1_pool (MaxPooling2D)   (None, 112, 112, 64)      0         \n",
            "_________________________________________________________________\n",
            "block2_conv1 (Conv2D)        (None, 112, 112, 128)     73856     \n",
            "_________________________________________________________________\n",
            "block2_conv2 (Conv2D)        (None, 112, 112, 128)     147584    \n",
            "_________________________________________________________________\n",
            "block2_pool (MaxPooling2D)   (None, 56, 56, 128)       0         \n",
            "_________________________________________________________________\n",
            "block3_conv1 (Conv2D)        (None, 56, 56, 256)       295168    \n",
            "_________________________________________________________________\n",
            "block3_conv2 (Conv2D)        (None, 56, 56, 256)       590080    \n",
            "_________________________________________________________________\n",
            "block3_conv3 (Conv2D)        (None, 56, 56, 256)       590080    \n",
            "_________________________________________________________________\n",
            "block3_pool (MaxPooling2D)   (None, 28, 28, 256)       0         \n",
            "_________________________________________________________________\n",
            "block4_conv1 (Conv2D)        (None, 28, 28, 512)       1180160   \n",
            "_________________________________________________________________\n",
            "block4_conv2 (Conv2D)        (None, 28, 28, 512)       2359808   \n",
            "_________________________________________________________________\n",
            "block4_conv3 (Conv2D)        (None, 28, 28, 512)       2359808   \n",
            "_________________________________________________________________\n",
            "block4_pool (MaxPooling2D)   (None, 14, 14, 512)       0         \n",
            "_________________________________________________________________\n",
            "block5_conv1 (Conv2D)        (None, 14, 14, 512)       2359808   \n",
            "_________________________________________________________________\n",
            "block5_conv2 (Conv2D)        (None, 14, 14, 512)       2359808   \n",
            "_________________________________________________________________\n",
            "block5_conv3 (Conv2D)        (None, 14, 14, 512)       2359808   \n",
            "_________________________________________________________________\n",
            "block5_pool (MaxPooling2D)   (None, 7, 7, 512)         0         \n",
            "_________________________________________________________________\n",
            "flatten (Flatten)            (None, 25088)             0         \n",
            "_________________________________________________________________\n",
            "fc1 (Dense)                  (None, 4096)              102764544 \n",
            "_________________________________________________________________\n",
            "fc2 (Dense)                  (None, 4096)              16781312  \n",
            "_________________________________________________________________\n",
            "output (Dense)               (None, 4)                 16388     \n",
            "=================================================================\n",
            "Total params: 134,276,932\n",
            "Trainable params: 134,276,932\n",
            "Non-trainable params: 0\n",
            "_________________________________________________________________\n"
          ],
          "name": "stdout"
        }
      ]
    },
    {
      "metadata": {
        "id": "QVNJXKMVGUZB",
        "colab_type": "code",
        "colab": {
          "base_uri": "https://localhost:8080/",
          "height": 918
        },
        "outputId": "b7cd5efd-56bf-47a7-e75d-ffaa47d8594a"
      },
      "cell_type": "code",
      "source": [
        "for layer in custom_vgg_model.layers[:-1]:\n",
        "\tlayer.trainable = False\n",
        "\n",
        "custom_vgg_model.summary()\n",
        "\n",
        "custom_vgg_model.compile(loss='categorical_crossentropy',optimizer='rmsprop',metrics=['accuracy'])"
      ],
      "execution_count": 16,
      "outputs": [
        {
          "output_type": "stream",
          "text": [
            "_________________________________________________________________\n",
            "Layer (type)                 Output Shape              Param #   \n",
            "=================================================================\n",
            "input_3 (InputLayer)         (None, 224, 224, 3)       0         \n",
            "_________________________________________________________________\n",
            "block1_conv1 (Conv2D)        (None, 224, 224, 64)      1792      \n",
            "_________________________________________________________________\n",
            "block1_conv2 (Conv2D)        (None, 224, 224, 64)      36928     \n",
            "_________________________________________________________________\n",
            "block1_pool (MaxPooling2D)   (None, 112, 112, 64)      0         \n",
            "_________________________________________________________________\n",
            "block2_conv1 (Conv2D)        (None, 112, 112, 128)     73856     \n",
            "_________________________________________________________________\n",
            "block2_conv2 (Conv2D)        (None, 112, 112, 128)     147584    \n",
            "_________________________________________________________________\n",
            "block2_pool (MaxPooling2D)   (None, 56, 56, 128)       0         \n",
            "_________________________________________________________________\n",
            "block3_conv1 (Conv2D)        (None, 56, 56, 256)       295168    \n",
            "_________________________________________________________________\n",
            "block3_conv2 (Conv2D)        (None, 56, 56, 256)       590080    \n",
            "_________________________________________________________________\n",
            "block3_conv3 (Conv2D)        (None, 56, 56, 256)       590080    \n",
            "_________________________________________________________________\n",
            "block3_pool (MaxPooling2D)   (None, 28, 28, 256)       0         \n",
            "_________________________________________________________________\n",
            "block4_conv1 (Conv2D)        (None, 28, 28, 512)       1180160   \n",
            "_________________________________________________________________\n",
            "block4_conv2 (Conv2D)        (None, 28, 28, 512)       2359808   \n",
            "_________________________________________________________________\n",
            "block4_conv3 (Conv2D)        (None, 28, 28, 512)       2359808   \n",
            "_________________________________________________________________\n",
            "block4_pool (MaxPooling2D)   (None, 14, 14, 512)       0         \n",
            "_________________________________________________________________\n",
            "block5_conv1 (Conv2D)        (None, 14, 14, 512)       2359808   \n",
            "_________________________________________________________________\n",
            "block5_conv2 (Conv2D)        (None, 14, 14, 512)       2359808   \n",
            "_________________________________________________________________\n",
            "block5_conv3 (Conv2D)        (None, 14, 14, 512)       2359808   \n",
            "_________________________________________________________________\n",
            "block5_pool (MaxPooling2D)   (None, 7, 7, 512)         0         \n",
            "_________________________________________________________________\n",
            "flatten (Flatten)            (None, 25088)             0         \n",
            "_________________________________________________________________\n",
            "fc1 (Dense)                  (None, 4096)              102764544 \n",
            "_________________________________________________________________\n",
            "fc2 (Dense)                  (None, 4096)              16781312  \n",
            "_________________________________________________________________\n",
            "output (Dense)               (None, 4)                 16388     \n",
            "=================================================================\n",
            "Total params: 134,276,932\n",
            "Trainable params: 16,388\n",
            "Non-trainable params: 134,260,544\n",
            "_________________________________________________________________\n"
          ],
          "name": "stdout"
        }
      ]
    },
    {
      "metadata": {
        "id": "Hvd9h5fbGUbQ",
        "colab_type": "code",
        "colab": {
          "base_uri": "https://localhost:8080/",
          "height": 153
        },
        "outputId": "f5e42c7e-99a7-4dd7-8b86-d7bb2a336f39"
      },
      "cell_type": "code",
      "source": [
        "t=time.time()\n",
        "#\tt = now()\n",
        "hist = custom_vgg_model.fit(X_train, y_train, batch_size=32, epochs=2, verbose=1, validation_data=(X_test, y_test))\n",
        "print('Training time: %s' % (t - time.time()))\n",
        "(loss, accuracy) = custom_vgg_model.evaluate(X_test, y_test, batch_size=10, verbose=1)\n",
        "\n",
        "print(\"[INFO] loss={:.4f}, accuracy: {:.4f}%\".format(loss,accuracy * 100))"
      ],
      "execution_count": 17,
      "outputs": [
        {
          "output_type": "stream",
          "text": [
            "Train on 201 samples, validate on 51 samples\n",
            "Epoch 1/2\n",
            "201/201 [==============================] - 431s - loss: 0.5629 - acc: 0.8308 - val_loss: 0.0553 - val_acc: 0.9804\n",
            "Epoch 2/2\n",
            "201/201 [==============================] - 430s - loss: 0.0264 - acc: 0.9950 - val_loss: 0.0319 - val_acc: 0.9804\n",
            "Training time: -862.2856433391571\n",
            "51/51 [==============================] - 88s    \n",
            "[INFO] loss=0.0319, accuracy: 98.0392%\n"
          ],
          "name": "stdout"
        }
      ]
    },
    {
      "metadata": {
        "id": "10avGUxOGUdo",
        "colab_type": "code",
        "colab": {
          "base_uri": "https://localhost:8080/",
          "height": 739
        },
        "outputId": "5835efa5-468f-49da-8b4d-1551c9c6dbd0"
      },
      "cell_type": "code",
      "source": [
        "#%% plot\n",
        "import matplotlib.pyplot as plt\n",
        "# visualizing losses and accuracy\n",
        "train_loss=hist.history['loss']\n",
        "val_loss=hist.history['val_loss']\n",
        "train_acc=hist.history['acc']\n",
        "val_acc=hist.history['val_acc']\n",
        "xc=range(2)\n",
        "\n",
        "plt.figure(1,figsize=(7,5))\n",
        "plt.plot(xc,train_loss)\n",
        "plt.plot(xc,val_loss)\n",
        "plt.xlabel('num of Epochs')\n",
        "plt.ylabel('loss')\n",
        "plt.title('train_loss vs val_loss')\n",
        "plt.grid(True)\n",
        "plt.legend(['train','val'])\n",
        "#print plt.style.available # use bmh, classic,ggplot for big pictures\n",
        "plt.style.use(['classic'])\n",
        "\n",
        "plt.figure(2,figsize=(7,5))\n",
        "plt.plot(xc,train_acc)\n",
        "plt.plot(xc,val_acc)\n",
        "plt.xlabel('num of Epochs')\n",
        "plt.ylabel('accuracy')\n",
        "plt.title('train_acc vs val_acc')\n",
        "plt.grid(True)\n",
        "plt.legend(['train','val'],loc=4)\n",
        "#print plt.style.available # use bmh, classic,ggplot for big pictures\n",
        "plt.style.use(['classic'])"
      ],
      "execution_count": 18,
      "outputs": [
        {
          "output_type": "display_data",
          "data": {
            "image/png": "[encoded data removed]",
            "text/plain": [
              "<Figure size 504x360 with 1 Axes>"
            ]
          },
          "metadata": {
            "tags": []
          }
        },
        {
          "output_type": "display_data",
          "data": {
            "image/png": "[encoded data removed]",
            "text/plain": [
              "<Figure size 560x400 with 1 Axes>"
            ]
          },
          "metadata": {
            "tags": []
          }
        }
      ]
    },
    {
      "metadata": {
        "id": "hksAMHyuKmQo",
        "colab_type": "code",
        "colab": {}
      },
      "cell_type": "code",
      "source": [
        ""
      ],
      "execution_count": 0,
      "outputs": []
    }
  ]
}