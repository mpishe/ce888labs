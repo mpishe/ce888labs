{
 "cells": [
  {
   "cell_type": "markdown",
   "metadata": {
    "slideshow": {
     "slide_type": "slide"
    }
   },
   "source": [
    "# Hybrid Models for Recommendation Systems"
   ]
  },
  {
   "cell_type": "markdown",
   "metadata": {
    "slideshow": {
     "slide_type": "slide"
    }
   },
   "source": [
    "Load Pandas, we are going to need it for manipulating data"
   ]
  },
  {
   "cell_type": "code",
   "execution_count": 1,
   "metadata": {
    "slideshow": {
     "slide_type": "fragment"
    }
   },
   "outputs": [],
   "source": [
    "import pandas as pd\n",
    "import numpy as np\n",
    "from IPython.display import Image\n",
    "np.set_printoptions(precision = 3)"
   ]
  },
  {
   "cell_type": "markdown",
   "metadata": {
    "slideshow": {
     "slide_type": "slide"
    }
   },
   "source": [
    "Now load the data"
   ]
  },
  {
   "cell_type": "code",
   "execution_count": 5,
   "metadata": {
    "slideshow": {
     "slide_type": "fragment"
    }
   },
   "outputs": [
    {
     "name": "stdout",
     "output_type": "stream",
     "text": [
      "\\begin{tabular}{lrrrrrrrl}\n",
      "\\toprule\n",
      "Empty DataFrame\n",
      "Columns: Index(['Sex', ' Over60', 'key', 'user\\_id', 'Critic0', ' Critic1', 'item\\_id',\n",
      "       'rating'],\n",
      "      dtype='object')\n",
      "Index: Int64Index([], dtype='int64') \\\\\n",
      "\\bottomrule\n",
      "\\end{tabular}\n",
      "\n"
     ]
    }
   ],
   "source": [
    "user_ratings_df = pd.read_csv(\"user_ratings.csv\")\n",
    "user_features_df = pd.read_csv(\"user_features.csv\")\n",
    "item_features_df = pd.read_csv(\"item_features.csv\")\n",
    "\n",
    "\n",
    "user_features_df[\"key\"] = 0\n",
    "user_features_df[\"user_id\"] = range(0,user_features_df.shape[0])\n",
    "item_features_df[\"key\"] = 0\n",
    "item_features_df[\"item_id\"] = range(0,item_features_df.shape[0])\n",
    "\n",
    "merged_df = pd.merge(user_features_df, item_features_df,left_index=True,on=\"key\")\n",
    "merged_df[[\"item_id\", \"user_id\"]]\n",
    "\n",
    "\n",
    "\n",
    "\n",
    "merged_df[\"rating\"] = map(lambda ids: user_ratings_df.values[ids[1]][ids[2]], \n",
    "                          merged_df[[\"user_id\", \"item_id\"]].itertuples())\n",
    "\n",
    "train = merged_df.dropna()\n",
    "\n",
    "test = merged_df[merged_df.isnull().any(axis=1)]\n",
    "\n",
    "print(test.to_latex())\n",
    "\n"
   ]
  },
  {
   "cell_type": "code",
   "execution_count": 8,
   "metadata": {
    "slideshow": {
     "slide_type": "slide"
    }
   },
   "outputs": [
    {
     "name": "stdout",
     "output_type": "stream",
     "text": [
      "\\begin{tabular}{lrrrr}\n",
      "\\toprule\n",
      "{} &  Critic0 &   Critic1 &  key &  item\\_id \\\\\n",
      "\\midrule\n",
      "0 &      0.3 &       0.9 &    0 &        0 \\\\\n",
      "1 &      0.9 &       0.3 &    0 &        1 \\\\\n",
      "2 &      0.6 &       0.4 &    0 &        2 \\\\\n",
      "3 &      0.2 &       0.1 &    0 &        3 \\\\\n",
      "4 &      0.7 &       0.8 &    0 &        4 \\\\\n",
      "\\bottomrule\n",
      "\\end{tabular}\n",
      "\n"
     ]
    }
   ],
   "source": [
    "n_latent_features = 2\n",
    "\n",
    "user_ratings = user_ratings_df.values\n",
    "latent_user_preferences = np.random.random((user_ratings.shape[0], n_latent_features))\n",
    "latent_item_features = np.random.random((user_ratings.shape[1],n_latent_features))\n",
    "\n",
    "user_features = user_features_df.values\n",
    "item_features = item_features_df.values\n",
    "\n",
    "print(item_features_df.to_latex())\n",
    "\n",
    "\n",
    "user_features = np.concatenate([np.ones(shape = (user_features.shape[0],1)), user_features], axis = 1)\n",
    "item_features = np.concatenate([np.ones(shape = (item_features.shape[0],1)), item_features], axis = 1)\n",
    "\n",
    "\n",
    "\n",
    "user_features_weights = np.random.random((user_ratings.shape[0], user_features.shape[1] ))\n",
    "item_features_weights = np.random.random((user_ratings.shape[1],item_features.shape[1] ))\n",
    "\n",
    "\n",
    "\n",
    "# print user_features"
   ]
  },
  {
   "cell_type": "code",
   "execution_count": 11,
   "metadata": {
    "slideshow": {
     "slide_type": "slide"
    }
   },
   "outputs": [],
   "source": [
    "def predict_rating(user_id,item_id):\n",
    "    \"\"\" Predict a rating given a user_id and an item_id.\n",
    "    \"\"\"\n",
    "    user_preference = latent_user_preferences[user_id]\n",
    "    item_preference = latent_item_features[item_id]\n",
    "    \n",
    "    user_score = user_features_weights[user_id].dot(user_features[user_id])\n",
    "    item_score = item_features_weights[item_id].dot(item_features[item_id])\n",
    "    #print user_preference.dot(item_preference), user_score, item_score\n",
    "    return user_preference.dot(item_preference) + user_score + item_score\n",
    "\n",
    "def train(user_id, item_id, rating,alpha = 0.001, \n",
    "                                   latent_feature_weight_decay = 0.1, \n",
    "                                   user_weight_decay = 0.01,\n",
    "                                   item_weight_decay = 0.0001):\n",
    "    \n",
    "    #print item_id\n",
    "    prediction_rating = predict_rating(user_id, item_id)\n",
    "    err =  ( prediction_rating - rating );\n",
    "    #print err\n",
    "    user_pref_values = latent_user_preferences[user_id][:]\n",
    "    latent_user_preferences[user_id] -= alpha * err *  ( latent_item_features[item_id] + latent_feature_weight_decay*latent_user_preferences[user_id])\n",
    "    latent_item_features[item_id] -= alpha * err * ( user_pref_values + latent_feature_weight_decay*latent_item_features[item_id])\n",
    "    \n",
    "    user_features_weights[user_id] -=alpha * err *(  user_features[user_id] + user_weight_decay* user_features_weights[user_id])\n",
    "    item_features_weights[item_id] -=alpha * err * ( item_features_weights[item_id] + item_weight_decay* item_features_weights[item_id])\n",
    "    \n",
    "    \n",
    "    return err\n",
    "    \n",
    "\n",
    "\n",
    "def sgd(iterations = 30000):\n",
    "    \"\"\" Iterate over all users and all items and train for \n",
    "        a certain number of iterations\n",
    "    \"\"\"\n",
    "    for iteration in range(0,iterations):\n",
    "        error = []\n",
    "        for user_id in range(0,latent_user_preferences.shape[0]):\n",
    "            for item_id in range(0,latent_item_features.shape[0]):\n",
    "                rating = user_ratings[user_id][item_id]\n",
    "                if(not np.isnan(rating)):\n",
    "                    err = train(user_id,item_id,rating)\n",
    "                    error.append(err)\n",
    "    mse = (np.array(error) ** 2).mean()          \n",
    "    print(mse)"
   ]
  },
  {
   "cell_type": "code",
   "execution_count": 12,
   "metadata": {
    "slideshow": {
     "slide_type": "fragment"
    }
   },
   "outputs": [
    {
     "name": "stdout",
     "output_type": "stream",
     "text": [
      "0.28367714939398486\n",
      "0.27800628884752643\n",
      "0.2763571860545079\n",
      "0.2755829072424352\n",
      "0.27515393078575495\n",
      "0.2749025918119836\n",
      "0.2747587613054194\n",
      "0.2746880821221305\n",
      "0.2746720251174935\n",
      "0.27470004908107726\n"
     ]
    }
   ],
   "source": [
    "for _ in range(0,10): \n",
    "    sgd()"
   ]
  },
  {
   "cell_type": "code",
   "execution_count": 13,
   "metadata": {
    "slideshow": {
     "slide_type": "slide"
    }
   },
   "outputs": [
    {
     "name": "stdout",
     "output_type": "stream",
     "text": [
      "[[ 2.61   2.671  0.416  0.479  0.706]\n",
      " [-1.241  0.562 -0.7    0.711 -1.336]\n",
      " [ 1.257  0.487  0.192  0.022  1.718]\n",
      " [ 1.126  0.73   0.484  0.136  1.165]\n",
      " [ 0.724  0.16   0.535  0.705  0.35 ]\n",
      " [ 0.116  0.839  0.979  0.787 -2.04 ]\n",
      " [ 0.477  0.018  0.578  0.574  0.139]\n",
      " [ 0.763 -0.042  0.152  0.976  0.306]\n",
      " [ 0.305  0.502  0.74   0.905 -0.558]\n",
      " [ 0.889  0.116  0.725  0.75  -0.018]]\n",
      "[[1.879 3.204 1.319 3.577 1.599]\n",
      " [0.09  0.064 0.108 0.093 0.082]\n",
      " [1.11  1.09  0.281 0.479 0.418]\n",
      " [0.554 4.833 1.811 1.695 0.565]\n",
      " [0.031 0.028 0.018 0.035 0.008]]\n"
     ]
    }
   ],
   "source": [
    "predictions = np.zeros(shape = (latent_user_preferences.shape[0], latent_item_features.shape[0]) )\n",
    "#print latent_user_preferences\n",
    "print(user_features_weights)\n",
    "print(item_features_weights)\n",
    "for user_id in range(0,latent_user_preferences.shape[0]):\n",
    "            for item_id in range(0,latent_item_features.shape[0]):\n",
    "                predictions[user_id,item_id] =  predict_rating(user_id,item_id)\n",
    "\n",
    "  "
   ]
  },
  {
   "cell_type": "code",
   "execution_count": 15,
   "metadata": {
    "slideshow": {
     "slide_type": "slide"
    }
   },
   "outputs": [
    {
     "data": {
      "text/html": [
       "<div>\n",
       "<style scoped>\n",
       "    .dataframe tbody tr th:only-of-type {\n",
       "        vertical-align: middle;\n",
       "    }\n",
       "\n",
       "    .dataframe tbody tr th {\n",
       "        vertical-align: top;\n",
       "    }\n",
       "\n",
       "    .dataframe thead th {\n",
       "        text-align: right;\n",
       "    }\n",
       "</style>\n",
       "<table border=\"1\" class=\"dataframe\">\n",
       "  <thead>\n",
       "    <tr style=\"text-align: right;\">\n",
       "      <th></th>\n",
       "      <th>The Call of Cthulhu</th>\n",
       "      <th>Frankenstein</th>\n",
       "      <th>Dracula</th>\n",
       "      <th>Neuromancer</th>\n",
       "      <th>Space Odyssey</th>\n",
       "    </tr>\n",
       "  </thead>\n",
       "  <tbody>\n",
       "    <tr>\n",
       "      <th>0</th>\n",
       "      <td>(8.000|7.871)</td>\n",
       "      <td>(2.000|2.404)</td>\n",
       "      <td>(nan|17.229)</td>\n",
       "      <td>(5.000|4.729)</td>\n",
       "      <td>(4.000|3.997)</td>\n",
       "    </tr>\n",
       "    <tr>\n",
       "      <th>1</th>\n",
       "      <td>(3.000|2.914)</td>\n",
       "      <td>(2.000|2.276)</td>\n",
       "      <td>(nan|-22.008)</td>\n",
       "      <td>(7.000|6.813)</td>\n",
       "      <td>(7.000|6.998)</td>\n",
       "    </tr>\n",
       "    <tr>\n",
       "      <th>2</th>\n",
       "      <td>(9.000|8.747)</td>\n",
       "      <td>(nan|5.027)</td>\n",
       "      <td>(7.000|7.043)</td>\n",
       "      <td>(8.000|8.181)</td>\n",
       "      <td>(5.000|5.022)</td>\n",
       "    </tr>\n",
       "    <tr>\n",
       "      <th>3</th>\n",
       "      <td>(nan|8.973)</td>\n",
       "      <td>(nan|5.002)</td>\n",
       "      <td>(7.000|7.000)</td>\n",
       "      <td>(8.000|7.999)</td>\n",
       "      <td>(9.000|9.000)</td>\n",
       "    </tr>\n",
       "    <tr>\n",
       "      <th>4</th>\n",
       "      <td>(nan|5.491)</td>\n",
       "      <td>(1.000|0.688)</td>\n",
       "      <td>(8.000|8.014)</td>\n",
       "      <td>(3.000|3.274)</td>\n",
       "      <td>(7.000|7.010)</td>\n",
       "    </tr>\n",
       "    <tr>\n",
       "      <th>5</th>\n",
       "      <td>(2.000|2.010)</td>\n",
       "      <td>(3.000|2.991)</td>\n",
       "      <td>(5.000|4.999)</td>\n",
       "      <td>(nan|9.079)</td>\n",
       "      <td>(nan|-71.163)</td>\n",
       "    </tr>\n",
       "    <tr>\n",
       "      <th>6</th>\n",
       "      <td>(4.000|4.546)</td>\n",
       "      <td>(2.000|0.286)</td>\n",
       "      <td>(nan|3.194)</td>\n",
       "      <td>(2.000|3.120)</td>\n",
       "      <td>(7.000|7.011)</td>\n",
       "    </tr>\n",
       "    <tr>\n",
       "      <th>7</th>\n",
       "      <td>(7.000|6.515)</td>\n",
       "      <td>(1.000|2.752)</td>\n",
       "      <td>(2.000|2.038)</td>\n",
       "      <td>(7.000|5.822)</td>\n",
       "      <td>(9.000|8.983)</td>\n",
       "    </tr>\n",
       "    <tr>\n",
       "      <th>8</th>\n",
       "      <td>(3.000|3.125)</td>\n",
       "      <td>(3.000|2.610)</td>\n",
       "      <td>(nan|-20.499)</td>\n",
       "      <td>(7.000|7.249)</td>\n",
       "      <td>(3.000|3.002)</td>\n",
       "    </tr>\n",
       "    <tr>\n",
       "      <th>9</th>\n",
       "      <td>(4.000|4.264)</td>\n",
       "      <td>(nan|-0.030)</td>\n",
       "      <td>(5.000|4.975)</td>\n",
       "      <td>(3.000|2.826)</td>\n",
       "      <td>(3.000|2.979)</td>\n",
       "    </tr>\n",
       "  </tbody>\n",
       "</table>\n",
       "</div>"
      ],
      "text/plain": [
       "  The Call of Cthulhu   Frankenstein        Dracula    Neuromancer  \\\n",
       "0       (8.000|7.871)  (2.000|2.404)   (nan|17.229)  (5.000|4.729)   \n",
       "1       (3.000|2.914)  (2.000|2.276)  (nan|-22.008)  (7.000|6.813)   \n",
       "2       (9.000|8.747)    (nan|5.027)  (7.000|7.043)  (8.000|8.181)   \n",
       "3         (nan|8.973)    (nan|5.002)  (7.000|7.000)  (8.000|7.999)   \n",
       "4         (nan|5.491)  (1.000|0.688)  (8.000|8.014)  (3.000|3.274)   \n",
       "5       (2.000|2.010)  (3.000|2.991)  (5.000|4.999)    (nan|9.079)   \n",
       "6       (4.000|4.546)  (2.000|0.286)    (nan|3.194)  (2.000|3.120)   \n",
       "7       (7.000|6.515)  (1.000|2.752)  (2.000|2.038)  (7.000|5.822)   \n",
       "8       (3.000|3.125)  (3.000|2.610)  (nan|-20.499)  (7.000|7.249)   \n",
       "9       (4.000|4.264)   (nan|-0.030)  (5.000|4.975)  (3.000|2.826)   \n",
       "\n",
       "   Space Odyssey  \n",
       "0  (4.000|3.997)  \n",
       "1  (7.000|6.998)  \n",
       "2  (5.000|5.022)  \n",
       "3  (9.000|9.000)  \n",
       "4  (7.000|7.010)  \n",
       "5  (nan|-71.163)  \n",
       "6  (7.000|7.011)  \n",
       "7  (9.000|8.983)  \n",
       "8  (3.000|3.002)  \n",
       "9  (3.000|2.979)  "
      ]
     },
     "execution_count": 15,
     "metadata": {},
     "output_type": "execute_result"
    }
   ],
   "source": [
    "values = [zip(user_ratings[i], predictions[i]) for i in range(0,predictions.shape[0])]\n",
    "comparison_data = pd.DataFrame(values)\n",
    "comparison_data.columns = user_ratings_df.columns\n",
    "comparison_data.applymap(lambda x: \"(%2.3f|%2.3f)\"%(x[0],x[1]))"
   ]
  },
  {
   "cell_type": "code",
   "execution_count": 16,
   "metadata": {
    "slideshow": {
     "slide_type": "fragment"
    }
   },
   "outputs": [
    {
     "data": {
      "text/html": [
       "<div>\n",
       "<style scoped>\n",
       "    .dataframe tbody tr th:only-of-type {\n",
       "        vertical-align: middle;\n",
       "    }\n",
       "\n",
       "    .dataframe tbody tr th {\n",
       "        vertical-align: top;\n",
       "    }\n",
       "\n",
       "    .dataframe thead th {\n",
       "        text-align: right;\n",
       "    }\n",
       "</style>\n",
       "<table border=\"1\" class=\"dataframe\">\n",
       "  <thead>\n",
       "    <tr style=\"text-align: right;\">\n",
       "      <th></th>\n",
       "      <th>The Call of Cthulhu</th>\n",
       "      <th>Frankenstein</th>\n",
       "      <th>Dracula</th>\n",
       "      <th>Neuromancer</th>\n",
       "      <th>Space Odyssey</th>\n",
       "    </tr>\n",
       "  </thead>\n",
       "  <tbody>\n",
       "    <tr>\n",
       "      <th>0</th>\n",
       "      <td>(8.0, 7.870882868944827)</td>\n",
       "      <td>(2.0, 2.4037355534583913)</td>\n",
       "      <td>(nan, 17.228672080328376)</td>\n",
       "      <td>(5.0, 4.729418151082328)</td>\n",
       "      <td>(4.0, 3.997301581843029)</td>\n",
       "    </tr>\n",
       "    <tr>\n",
       "      <th>1</th>\n",
       "      <td>(3.0, 2.914057615244747)</td>\n",
       "      <td>(2.0, 2.2762903086537816)</td>\n",
       "      <td>(nan, -22.008230829411747)</td>\n",
       "      <td>(7.0, 6.813458287264119)</td>\n",
       "      <td>(7.0, 6.998275736558438)</td>\n",
       "    </tr>\n",
       "    <tr>\n",
       "      <th>2</th>\n",
       "      <td>(9.0, 8.746599583196783)</td>\n",
       "      <td>(nan, 5.027423867494672)</td>\n",
       "      <td>(7.0, 7.04325223287071)</td>\n",
       "      <td>(8.0, 8.181233914499426)</td>\n",
       "      <td>(5.0, 5.021871299876603)</td>\n",
       "    </tr>\n",
       "    <tr>\n",
       "      <th>3</th>\n",
       "      <td>(nan, 8.972896330410045)</td>\n",
       "      <td>(nan, 5.002383526416432)</td>\n",
       "      <td>(7.0, 7.000086237167638)</td>\n",
       "      <td>(8.0, 7.998866397531094)</td>\n",
       "      <td>(9.0, 9.000037561315283)</td>\n",
       "    </tr>\n",
       "    <tr>\n",
       "      <th>4</th>\n",
       "      <td>(nan, 5.490954419448839)</td>\n",
       "      <td>(1.0, 0.6881610197427666)</td>\n",
       "      <td>(8.0, 8.014269474475887)</td>\n",
       "      <td>(3.0, 3.274491260133513)</td>\n",
       "      <td>(7.0, 7.010423599044714)</td>\n",
       "    </tr>\n",
       "    <tr>\n",
       "      <th>5</th>\n",
       "      <td>(2.0, 2.0103807327342196)</td>\n",
       "      <td>(3.0, 2.9906673301561697)</td>\n",
       "      <td>(5.0, 4.998627995999344)</td>\n",
       "      <td>(nan, 9.079024667902399)</td>\n",
       "      <td>(nan, -71.16270875434697)</td>\n",
       "    </tr>\n",
       "    <tr>\n",
       "      <th>6</th>\n",
       "      <td>(4.0, 4.546281700308219)</td>\n",
       "      <td>(2.0, 0.2858722679965226)</td>\n",
       "      <td>(nan, 3.1943461185765503)</td>\n",
       "      <td>(2.0, 3.1200527805797815)</td>\n",
       "      <td>(7.0, 7.01077431087073)</td>\n",
       "    </tr>\n",
       "    <tr>\n",
       "      <th>7</th>\n",
       "      <td>(7.0, 6.515144510545583)</td>\n",
       "      <td>(1.0, 2.7515978314391907)</td>\n",
       "      <td>(2.0, 2.038352362235766)</td>\n",
       "      <td>(7.0, 5.821571026364966)</td>\n",
       "      <td>(9.0, 8.9828286543988)</td>\n",
       "    </tr>\n",
       "    <tr>\n",
       "      <th>8</th>\n",
       "      <td>(3.0, 3.1246414840339396)</td>\n",
       "      <td>(3.0, 2.6102026149523723)</td>\n",
       "      <td>(nan, -20.499408147266248)</td>\n",
       "      <td>(7.0, 7.248550531712029)</td>\n",
       "      <td>(3.0, 3.002326373622121)</td>\n",
       "    </tr>\n",
       "    <tr>\n",
       "      <th>9</th>\n",
       "      <td>(4.0, 4.264167385445144)</td>\n",
       "      <td>(nan, -0.03042866205909084)</td>\n",
       "      <td>(5.0, 4.975424612400049)</td>\n",
       "      <td>(3.0, 2.8255393511415177)</td>\n",
       "      <td>(3.0, 2.9789699614987706)</td>\n",
       "    </tr>\n",
       "  </tbody>\n",
       "</table>\n",
       "</div>"
      ],
      "text/plain": [
       "         The Call of Cthulhu                 Frankenstein  \\\n",
       "0   (8.0, 7.870882868944827)    (2.0, 2.4037355534583913)   \n",
       "1   (3.0, 2.914057615244747)    (2.0, 2.2762903086537816)   \n",
       "2   (9.0, 8.746599583196783)     (nan, 5.027423867494672)   \n",
       "3   (nan, 8.972896330410045)     (nan, 5.002383526416432)   \n",
       "4   (nan, 5.490954419448839)    (1.0, 0.6881610197427666)   \n",
       "5  (2.0, 2.0103807327342196)    (3.0, 2.9906673301561697)   \n",
       "6   (4.0, 4.546281700308219)    (2.0, 0.2858722679965226)   \n",
       "7   (7.0, 6.515144510545583)    (1.0, 2.7515978314391907)   \n",
       "8  (3.0, 3.1246414840339396)    (3.0, 2.6102026149523723)   \n",
       "9   (4.0, 4.264167385445144)  (nan, -0.03042866205909084)   \n",
       "\n",
       "                      Dracula                Neuromancer  \\\n",
       "0   (nan, 17.228672080328376)   (5.0, 4.729418151082328)   \n",
       "1  (nan, -22.008230829411747)   (7.0, 6.813458287264119)   \n",
       "2     (7.0, 7.04325223287071)   (8.0, 8.181233914499426)   \n",
       "3    (7.0, 7.000086237167638)   (8.0, 7.998866397531094)   \n",
       "4    (8.0, 8.014269474475887)   (3.0, 3.274491260133513)   \n",
       "5    (5.0, 4.998627995999344)   (nan, 9.079024667902399)   \n",
       "6   (nan, 3.1943461185765503)  (2.0, 3.1200527805797815)   \n",
       "7    (2.0, 2.038352362235766)   (7.0, 5.821571026364966)   \n",
       "8  (nan, -20.499408147266248)   (7.0, 7.248550531712029)   \n",
       "9    (5.0, 4.975424612400049)  (3.0, 2.8255393511415177)   \n",
       "\n",
       "               Space Odyssey  \n",
       "0   (4.0, 3.997301581843029)  \n",
       "1   (7.0, 6.998275736558438)  \n",
       "2   (5.0, 5.021871299876603)  \n",
       "3   (9.0, 9.000037561315283)  \n",
       "4   (7.0, 7.010423599044714)  \n",
       "5  (nan, -71.16270875434697)  \n",
       "6    (7.0, 7.01077431087073)  \n",
       "7     (9.0, 8.9828286543988)  \n",
       "8   (3.0, 3.002326373622121)  \n",
       "9  (3.0, 2.9789699614987706)  "
      ]
     },
     "execution_count": 16,
     "metadata": {},
     "output_type": "execute_result"
    }
   ],
   "source": [
    "comparison_data"
   ]
  },
  {
   "cell_type": "code",
   "execution_count": 18,
   "metadata": {},
   "outputs": [],
   "source": [
    "d = comparison_data.to_latex()\n",
    "text_file = open(\"comparison2.txt\", \"w\")\n",
    "text_file.write(d)\n",
    "text_file.close()"
   ]
  }
 ],
 "metadata": {
  "kernelspec": {
   "display_name": "Python 3",
   "language": "python",
   "name": "python3"
  },
  "language_info": {
   "codemirror_mode": {
    "name": "ipython",
    "version": 3
   },
   "file_extension": ".py",
   "mimetype": "text/x-python",
   "name": "python",
   "nbconvert_exporter": "python",
   "pygments_lexer": "ipython3",
   "version": "3.6.5"
  }
 },
 "nbformat": 4,
 "nbformat_minor": 1
}
