{
 "cells": [
  {
   "cell_type": "markdown",
   "metadata": {},
   "source": [
    "# CE888: Data Science and Decision Making Lab 1\n"
   ]
  },
  {
   "cell_type": "markdown",
   "metadata": {},
   "source": [
    "Over today's practice you'll learn:\n",
    "* to use JuPyter notebooks to quickly prototype code and show results\n",
    "* the numerical Python library\n",
    "\n",
    "This lab is divided in two parts. In each of them, you will have to fill in the gaps following the instructions given.\n",
    "The prompts for you to write code will look like this:"
   ]
  },
  {
   "cell_type": "code",
   "execution_count": null,
   "metadata": {},
   "outputs": [],
   "source": [
    "#<------------INSERT CODE HERE------------>"
   ]
  },
  {
   "cell_type": "markdown",
   "metadata": {},
   "source": [
    "This might involve more than one line of code from you!\n",
    "\n",
    "Do **not** delete code from the notebook.\n",
    "\n",
    "Let's start!"
   ]
  },
  {
   "cell_type": "markdown",
   "metadata": {},
   "source": [
    "## Part 1\n",
    "\n",
    "In the first part of the lab we're going to check your Python skills and, in particular, we will ask you to create some functions to operate on vectors and matrices.\n",
    "\n"
   ]
  },
  {
   "cell_type": "markdown",
   "metadata": {},
   "source": [
    "### Operations with vectors"
   ]
  },
  {
   "cell_type": "code",
   "execution_count": 1,
   "metadata": {},
   "outputs": [
    {
     "name": "stdout",
     "output_type": "stream",
     "text": [
      "[1, 2, 4, 78, 93]\n",
      "The vector has 5 elements\n"
     ]
    }
   ],
   "source": [
    "# Let's create a vector. We can do this as a Python built-in type: the list\n",
    "vector1 = [1, 2, 4, 78, 93] # we declare the vector as a list of elements\n",
    "\n",
    "print(vector1)\n",
    "print(\"The vector has %d elements\" % len(vector1))"
   ]
  },
  {
   "cell_type": "code",
   "execution_count": 19,
   "metadata": {},
   "outputs": [],
   "source": [
    "# Let's add a number to every element of the vector.\n",
    "## Exercise: create a function that, given a vector and a number,\n",
    "## returns the addition of that number to each element of the vector\n",
    "def vector_plus_num(vector, number):\n",
    "    \n",
    "    vector = [v + number for v in vector]\n",
    "    \n",
    "    return vector"
   ]
  },
  {
   "cell_type": "code",
   "execution_count": 20,
   "metadata": {},
   "outputs": [
    {
     "name": "stdout",
     "output_type": "stream",
     "text": [
      "[6, 7, 9, 83, 98]\n",
      "[-32, -31, -29, 45, 60]\n"
     ]
    }
   ],
   "source": [
    "# Let's test your function:\n",
    "print(vector_plus_num(vector1, 5))\n",
    "print(vector_plus_num(vector1, -33))"
   ]
  },
  {
   "cell_type": "markdown",
   "metadata": {},
   "source": [
    "What if we now wanted to mutiply a number and a vector? **Do not do it**, just think about what you'd need!"
   ]
  },
  {
   "cell_type": "markdown",
   "metadata": {},
   "source": [
    "And what if we want to calculate the mean value of your vector?"
   ]
  },
  {
   "cell_type": "code",
   "execution_count": 17,
   "metadata": {},
   "outputs": [],
   "source": [
    "## Exercise: create a function that, given a vector,\n",
    "## returns the mean value of its elements.\n",
    "def vector_mean(vector):\n",
    "    \n",
    "    mu = sum(vector)/len(vector)\n",
    "    \n",
    "    return mu"
   ]
  },
  {
   "cell_type": "code",
   "execution_count": 18,
   "metadata": {},
   "outputs": [
    {
     "name": "stdout",
     "output_type": "stream",
     "text": [
      "35.6\n",
      "3.0\n"
     ]
    }
   ],
   "source": [
    "# Now test your function:\n",
    "\n",
    "print(vector_mean(vector1))\n",
    "print(vector_mean([1, 2, 3, 4, 5]))"
   ]
  },
  {
   "cell_type": "markdown",
   "metadata": {},
   "source": [
    "We will now work on operations between pairs of vectors."
   ]
  },
  {
   "cell_type": "code",
   "execution_count": 27,
   "metadata": {},
   "outputs": [],
   "source": [
    "# Now let's create a new vector, called vector2, of the same length as vector1.\n",
    "# We will then look at operations with multiple vectors, \n",
    "# such as adding and subtracting them, and vector multiplications.\n",
    "vector2 = vector1[::-1]\n",
    "\n",
    "assert len(vector1) == len(vector2), \"The vectors are not of the same length\""
   ]
  },
  {
   "cell_type": "code",
   "execution_count": 28,
   "metadata": {},
   "outputs": [],
   "source": [
    "# Create a function that returns new vector of the same length as vector1 and vector2, \n",
    "# for which each element is the sum of the corresponding elements from vector1 and vector2.\n",
    "\n",
    "# Feel free to create a function to do this!\n",
    "\n",
    "def add_two_vectors(vec1, vec2):\n",
    "    sumVec = [v1 + v2 for v1, v2 in zip(vec1, vec2)]\n",
    "    return sumVec"
   ]
  },
  {
   "cell_type": "code",
   "execution_count": 29,
   "metadata": {},
   "outputs": [
    {
     "name": "stdout",
     "output_type": "stream",
     "text": [
      "[94, 80, 8, 80, 94]\n",
      "[2, 4, 7]\n"
     ]
    }
   ],
   "source": [
    "# Let's test your function:\n",
    "print(add_two_vectors(vector1, vector2))\n",
    "print(add_two_vectors(vector1, [1, 2, 3]))\n",
    "# If the second print resulted in an error, don't worry about it for now!"
   ]
  },
  {
   "cell_type": "markdown",
   "metadata": {},
   "source": [
    "How about the multiplication of vectors?\n",
    "There are two types of vector multiplications:\n",
    "* The dot product (or scalar product) takes two vectors and returns a scalar.\n",
    "* The cross product (or vector product) takes two vectors and returns another vector."
   ]
  },
  {
   "cell_type": "markdown",
   "metadata": {},
   "source": [
    "Now let's create a function that returns the scalar product of two vectors.\n",
    "\n",
    "This can be done by multiplying pairs of elements and adding the result:\n",
    "\n",
    "A = [A1, A2, A3, ..., An]\n",
    "\n",
    "B = [B1, B2, B3, ..., Bn]\n",
    "\n",
    "A · B = A1·B1 + A2·B2 + ... An·Bn"
   ]
  },
  {
   "cell_type": "code",
   "execution_count": 30,
   "metadata": {},
   "outputs": [],
   "source": [
    "def scalar_product(v1, v2):\n",
    "    scalarProduct = sum([v1*v2 for v1,v2 in zip(v1,v2)])\n",
    "    return scalarProduct"
   ]
  },
  {
   "cell_type": "code",
   "execution_count": 32,
   "metadata": {},
   "outputs": [
    {
     "name": "stdout",
     "output_type": "stream",
     "text": [
      "514\n",
      "14\n"
     ]
    }
   ],
   "source": [
    "# Test your function\n",
    "\n",
    "print(scalar_product(vector1, vector2))\n",
    "print(scalar_product([1, 2, 3], [1, 2, 3]))"
   ]
  },
  {
   "cell_type": "markdown",
   "metadata": {},
   "source": [
    "### Operations with matrices\n",
    "\n",
    "Again, there are multiple things we can do with matrices. For example, adding/subtracting/multiplying a number to each element of a matrix and matrix multiplication.\n",
    "\n",
    "We're going to attempt the last one only."
   ]
  },
  {
   "cell_type": "code",
   "execution_count": 59,
   "metadata": {},
   "outputs": [],
   "source": [
    "# Create a function that receives two matrices as input and returns the matrix multiplication of the two\n",
    "# If you don't know how to multiply two matrices, check:\n",
    "# https://en.wikipedia.org/wiki/Matrix_multiplication#Definition\n",
    "\n",
    "def matrix_multiplication(matrix1, matrix2):\n",
    "    \n",
    "    rows1 = len(matrix1)\n",
    "    cols1 = len(matrix1[0])\n",
    "    cols2 = len(matrix2[0])\n",
    "    multipl_result = [[0 for row in range(cols2)] for col in range(rows1)]\n",
    "    \n",
    "    for i in range(rows1):\n",
    "        for j in range(cols2):\n",
    "            for k in range(cols1):\n",
    "                multipl_result[i][j] += matrix1[i][k]*matrix2[k][j]\n",
    "    \n",
    "    return multipl_result"
   ]
  },
  {
   "cell_type": "code",
   "execution_count": 55,
   "metadata": {},
   "outputs": [],
   "source": [
    "# And let's test your function:\n",
    "# NOTE: some of the tests below will give errors. Don't worry about them!\n",
    "matrixA = [[1, 2, 3], [1, 2, 3]]\n",
    "matrixB = [[5, 6, 7], [5, 6, 7], [5, 6, 7]]\n",
    "matrixC = [[8, 9], [8, 9], [8, 9], [8, 9]]\n",
    "matrixD = [[10, 11], [10, 11], [10, 11]]"
   ]
  },
  {
   "cell_type": "code",
   "execution_count": 60,
   "metadata": {},
   "outputs": [
    {
     "name": "stdout",
     "output_type": "stream",
     "text": [
      "[[30, 36, 42], [30, 36, 42]]\n"
     ]
    }
   ],
   "source": [
    "print(matrix_multiplication(matrixA, matrixB))"
   ]
  },
  {
   "cell_type": "code",
   "execution_count": 61,
   "metadata": {},
   "outputs": [
    {
     "name": "stdout",
     "output_type": "stream",
     "text": [
      "[[48, 54], [48, 54]]\n"
     ]
    }
   ],
   "source": [
    "print(matrix_multiplication(matrixA, matrixC))"
   ]
  },
  {
   "cell_type": "code",
   "execution_count": 62,
   "metadata": {},
   "outputs": [
    {
     "name": "stdout",
     "output_type": "stream",
     "text": [
      "[[21, 42, 63], [21, 42, 63], [21, 42, 63]]\n"
     ]
    }
   ],
   "source": [
    "print(matrix_multiplication(matrixD, matrixA))"
   ]
  },
  {
   "cell_type": "markdown",
   "metadata": {},
   "source": [
    "Hopefully this has convinced you that operating with vectors and matrices like this is not the best way.\n",
    "Now we will turn to the second part of this lab, in which you will be introduced to the numerical Python library, *numpy*."
   ]
  },
  {
   "cell_type": "markdown",
   "metadata": {},
   "source": [
    "## Part 2: Numpy\n"
   ]
  },
  {
   "cell_type": "markdown",
   "metadata": {},
   "source": [
    "Numpy has a built-in type called the *ndarray*. "
   ]
  },
  {
   "cell_type": "code",
   "execution_count": 63,
   "metadata": {},
   "outputs": [],
   "source": [
    "import numpy as np # Importing convention for Numpy"
   ]
  },
  {
   "cell_type": "code",
   "execution_count": 64,
   "metadata": {},
   "outputs": [
    {
     "name": "stdout",
     "output_type": "stream",
     "text": [
      "1.14.5\n"
     ]
    }
   ],
   "source": [
    "print(np.__version__)"
   ]
  },
  {
   "cell_type": "markdown",
   "metadata": {},
   "source": [
    "#### Creating and manipulating arrays"
   ]
  },
  {
   "cell_type": "code",
   "execution_count": 65,
   "metadata": {},
   "outputs": [
    {
     "name": "stdout",
     "output_type": "stream",
     "text": [
      "[1. 2. 3.]\n",
      "float32\n",
      "[1.+2.j 3.-4.j]\n",
      "complex64\n",
      "[False  True  True]\n",
      "bool\n",
      "[[1 2 3]\n",
      " [1 2 3]]\n",
      "int32\n",
      "(2, 3)\n",
      "[93 78  4  2  1]\n",
      "int32\n",
      "(5,)\n"
     ]
    }
   ],
   "source": [
    "# Create arrays with a specified data type\n",
    "\n",
    "arr = np.array([1, 2, 3], dtype=np.float32)\n",
    "print(arr)\n",
    "print(arr.dtype)\n",
    "\n",
    "arr = np.array([1+2j, 3-4j], dtype=np.complex64)  # an array of complex numbers\n",
    "print(arr)\n",
    "print(arr.dtype)\n",
    "\n",
    "arr = np.array([0, 1, 1], dtype=np.bool)  # an array of True/False values\n",
    "print(arr)\n",
    "print(arr.dtype)\n",
    "\n",
    "# We can also create arrays from the vectors and matrices we had before.\n",
    "arr = np.array(matrixA)\n",
    "print(arr)\n",
    "print(arr.dtype)\n",
    "print(arr.shape)\n",
    "\n",
    "arr = np.array(vector2)\n",
    "print(arr)\n",
    "print(arr.dtype)\n",
    "print(arr.shape)\n"
   ]
  },
  {
   "cell_type": "code",
   "execution_count": 66,
   "metadata": {},
   "outputs": [
    {
     "name": "stdout",
     "output_type": "stream",
     "text": [
      "[0 1 2 3 4 5 6 7 8 9]\n",
      "shape: (10,)\n",
      "dtype: int32\n",
      "dim: 1\n",
      "itemsize: 4\n"
     ]
    }
   ],
   "source": [
    "arr_range2 = np.arange(10)\n",
    "print(arr_range2)\n",
    "\n",
    "# Retrieving information on the array\n",
    "print(\"shape:\", arr_range2.shape)\n",
    "print(\"dtype:\", arr_range2.dtype)\n",
    "print(\"dim:\", arr_range2.ndim)\n",
    "print(\"itemsize:\", arr_range2.itemsize)"
   ]
  },
  {
   "cell_type": "code",
   "execution_count": 67,
   "metadata": {},
   "outputs": [
    {
     "name": "stdout",
     "output_type": "stream",
     "text": [
      "[ 0  5 10 15 20 25 30 35 40 45 50 55 60 65 70 75 80 85 90 95]\n",
      "[ 0.          0.52631579  1.05263158  1.57894737  2.10526316  2.63157895\n",
      "  3.15789474  3.68421053  4.21052632  4.73684211  5.26315789  5.78947368\n",
      "  6.31578947  6.84210526  7.36842105  7.89473684  8.42105263  8.94736842\n",
      "  9.47368421 10.        ]\n"
     ]
    }
   ],
   "source": [
    "# We can use the np.arange function to create a range of values:\n",
    "arr = np.arange(0, 100, 5) #np.arange(start, stop, pace)\n",
    "print(arr)\n",
    "# Note: is the last value (100) included?\n",
    "\n",
    "# Similarly, we can use np.linspace:\n",
    "# np.linspace(start, stop, num_of_elements, endpoint=True) \n",
    "arr = np.linspace(0, 10, 20)\n",
    "print(arr)\n",
    "# Note: is the last value (10) included now?"
   ]
  },
  {
   "cell_type": "code",
   "execution_count": 68,
   "metadata": {},
   "outputs": [
    {
     "name": "stdout",
     "output_type": "stream",
     "text": [
      "[[1.5 2.  3. ]\n",
      " [4.  5.  6. ]]\n",
      "(2, 3)\n"
     ]
    }
   ],
   "source": [
    "arr_2d = np.array([(1.5, 2, 3), (4, 5, 6)]) # creating an array from a list of tuples\n",
    "print(arr_2d)\n",
    "print(arr_2d.shape)"
   ]
  },
  {
   "cell_type": "code",
   "execution_count": 69,
   "metadata": {},
   "outputs": [
    {
     "name": "stdout",
     "output_type": "stream",
     "text": [
      "arr_2d[0,0] : 1.5\n",
      "arr_2d[0,:] :  [1.5 2.  3. ]\n",
      "arr_2d[:,0] : [1.5 4. ]\n",
      "[3. 4. 5. 6.]\n"
     ]
    }
   ],
   "source": [
    "# Slicing (i.e., accessing specific elements of the array)\n",
    "\n",
    "print(\"arr_2d[0,0] :\", arr_2d[0, 0])\n",
    "print(\"arr_2d[0,:] : \", arr_2d[0, :])\n",
    "print(\"arr_2d[:,0] :\", arr_2d[:, 0])\n",
    "\n",
    "print(arr_2d[arr_2d > 2])"
   ]
  },
  {
   "cell_type": "code",
   "execution_count": 70,
   "metadata": {},
   "outputs": [
    {
     "name": "stdout",
     "output_type": "stream",
     "text": [
      "[[0. 0. 0. 0. 0. 0. 0. 0. 0. 0.]\n",
      " [0. 0. 0. 0. 0. 0. 0. 0. 0. 0.]\n",
      " [0. 0. 0. 0. 0. 0. 0. 0. 0. 0.]\n",
      " [0. 0. 0. 0. 0. 0. 0. 0. 0. 0.]\n",
      " [0. 0. 0. 0. 0. 0. 0. 0. 0. 0.]\n",
      " [0. 0. 0. 0. 0. 0. 0. 0. 0. 0.]\n",
      " [0. 0. 0. 0. 0. 0. 0. 0. 0. 0.]\n",
      " [0. 0. 0. 0. 0. 0. 0. 0. 0. 0.]\n",
      " [0. 0. 0. 0. 0. 0. 0. 0. 0. 0.]\n",
      " [0. 0. 0. 0. 0. 0. 0. 0. 0. 0.]]\n",
      "(10, 10)\n",
      "[[1. 1. 1. 1.]\n",
      " [1. 1. 1. 1.]\n",
      " [1. 1. 1. 1.]\n",
      " [1. 1. 1. 1.]]\n",
      "(4, 4)\n",
      "[[1. 1. 1. 1. 1. 1. 1. 1.]\n",
      " [1. 1. 1. 1. 1. 1. 1. 1.]]\n",
      "(4, 4)\n"
     ]
    }
   ],
   "source": [
    "# Other types of arrays\n",
    "\n",
    "zeros = np.zeros((10, 10))\n",
    "print(zeros)\n",
    "# print the shape of zeros\n",
    "print(zeros.shape)\n",
    "\n",
    "ones = np.ones((4, 4))\n",
    "print(ones)\n",
    "# print the shape of ones\n",
    "print(ones.shape)\n",
    "\n",
    "print(ones.reshape(2, 8))\n",
    "# print the shape of ones\n",
    "print(ones.shape)"
   ]
  },
  {
   "cell_type": "code",
   "execution_count": 76,
   "metadata": {},
   "outputs": [
    {
     "name": "stdout",
     "output_type": "stream",
     "text": [
      "(1, 1000)\n",
      "[[-0.93191201  0.55187438 -0.66041553  0.14536183  0.73142787  2.77900677\n",
      "  -0.88226612  0.64335687  0.25611235  0.63818263]]\n"
     ]
    }
   ],
   "source": [
    "# We can also use numpy to generate random values.\n",
    "randn = np.random.randn(1, 1000)\n",
    "# print the shape of randn\n",
    "print(randn.shape)\n",
    "\n",
    "# print the first 10 elements of randn. What happens if you re-run this code?\n",
    "print(randn[:,:10])\n"
   ]
  },
  {
   "cell_type": "code",
   "execution_count": 80,
   "metadata": {},
   "outputs": [
    {
     "name": "stdout",
     "output_type": "stream",
     "text": [
      "[[ 0.66698806  0.02581308]\n",
      " [-0.77761941  0.94863382]\n",
      " [ 0.70167179 -1.05108156]]\n"
     ]
    }
   ],
   "source": [
    "np.random.seed(23)\n",
    "\n",
    "# Generate a new array of random numbers, this time of shape (3, 2) and print it.\n",
    "# What happens when you re-run the code now?\n",
    "# TIP: you might want to save the result to compare the previous and the new one\n",
    "\n",
    "rand_arr1 = np.random.randn(3, 2)\n",
    "print(rand_arr1)\n",
    "\n",
    "# Think: what does np.seed() do? (Use Google if you don't know!)"
   ]
  },
  {
   "cell_type": "markdown",
   "metadata": {},
   "source": [
    "#### Combine arrays"
   ]
  },
  {
   "cell_type": "code",
   "execution_count": 82,
   "metadata": {},
   "outputs": [
    {
     "name": "stdout",
     "output_type": "stream",
     "text": [
      "(2, 4) (2, 4)\n",
      "[[1 2 3 4]\n",
      " [1 2 3 4]\n",
      " [5 6 7 8]\n",
      " [5 6 7 8]]\n",
      "(4, 4)\n",
      "[[1 2 3 4 5 6 7 8]\n",
      " [1 2 3 4 5 6 7 8]]\n",
      "(2, 8)\n",
      "[[1 2 3 4]\n",
      " [1 2 3 4]\n",
      " [5 6 7 8]\n",
      " [5 6 7 8]]\n",
      "(4, 4)\n",
      "[[1 2 3 4 5 6 7 8]\n",
      " [1 2 3 4 5 6 7 8]]\n",
      "(2, 8)\n"
     ]
    }
   ],
   "source": [
    "arr1 = np.array([[1, 2, 3, 4], [1, 2, 3, 4]])\n",
    "arr2 = np.array([[5, 6, 7, 8], [5, 6, 7 , 8]])\n",
    "\n",
    "# Print the shapes of arr1 and arr2 and cat after each of the types of concatenations.\n",
    "# Concatenating arrays is a very common operation. Make sure you understand it!\n",
    "# TIP: it might help you to print the actual cat array after each type of concatenation too\n",
    "\n",
    "#<------------INSERT CODE HERE------------>\n",
    "print(arr1.shape, arr2.shape)\n",
    "\n",
    "# concatenate along the row\n",
    "cat = np.concatenate((arr1, arr2), axis=0)\n",
    "#<------------INSERT CODE HERE------------>\n",
    "print(cat)\n",
    "print(cat.shape)\n",
    "\n",
    "# concatenate along the column\n",
    "cat = np.concatenate((arr1, arr2), axis=1)    \n",
    "#<------------INSERT CODE HERE------------>\n",
    "print(cat)\n",
    "print(cat.shape)\n",
    "\n",
    "# stack arrays vertically\n",
    "cat = np.vstack((arr1, arr2))\n",
    "#<------------INSERT CODE HERE------------>\n",
    "print(cat)\n",
    "print(cat.shape)\n",
    "# stack arrays horizontally\n",
    "cat = np.hstack((arr1, arr2))\n",
    "#<------------INSERT CODE HERE------------>\n",
    "print(cat)\n",
    "print(cat.shape)"
   ]
  },
  {
   "cell_type": "markdown",
   "metadata": {},
   "source": [
    "#### Operations with arrays"
   ]
  },
  {
   "cell_type": "code",
   "execution_count": 83,
   "metadata": {},
   "outputs": [],
   "source": [
    "#Let's create a couple of vectors using numpy\n",
    "v1 = np.array([20, 30, 40, 50])\n",
    "v2 = np.arange(4)\n",
    "\n",
    "#And a couple of matrices\n",
    "mat1 = np.array([[1, 2, 3, 4], [1, 2, 3, 4]])\n",
    "mat2 = mat1.T # this is the transpose of mat1"
   ]
  },
  {
   "cell_type": "code",
   "execution_count": 87,
   "metadata": {},
   "outputs": [
    {
     "name": "stdout",
     "output_type": "stream",
     "text": [
      "[25 35 45 55]\n",
      "[25, 35, 45, 55]\n",
      "[array([2368, 2369, 2370, 2371]), array([2368, 2369, 2370, 2371])]\n",
      "[[2368 2369 2370 2371]\n",
      " [2368 2369 2370 2371]]\n"
     ]
    }
   ],
   "source": [
    "# Add a number to an array of 1-D (i.e., a vector)\n",
    "print(5 + v1)\n",
    "# Compare the line above to your function vector_plus_num(vector, number) from Part 1.\n",
    "\n",
    "# Does your function work with matrices?\n",
    "\n",
    "# How do you add a number to a np.array object? Try adding 2367 to mat1\n",
    "\n",
    "#<------------INSERT CODE HERE------------>\n",
    "print(vector_plus_num(v1, 5))\n",
    "print(vector_plus_num(mat1, 2367))\n",
    "print(2367 + mat1)"
   ]
  },
  {
   "cell_type": "code",
   "execution_count": 94,
   "metadata": {},
   "outputs": [
    {
     "name": "stdout",
     "output_type": "stream",
     "text": [
      "Adding two vectors [20 31 42 53]\n",
      "Subtracting two vectors [20 29 38 47]\n",
      "[0.         1.         1.41421356 1.73205081]\n",
      "[2.99573227 3.40119738 3.68887945 3.91202301]\n"
     ]
    }
   ],
   "source": [
    "# Let's try to add and subtract vectors now:\n",
    "print(\"Adding two vectors\", v1 + v2)\n",
    "print(\"Subtracting two vectors\", v1 - v2)\n",
    "\n",
    "# What happens if you try to add two vectors of different length?\n",
    "\n",
    "\n",
    "# Square root of each elemnt of v2:\n",
    "print(np.sqrt(v2))\n",
    "\n",
    "# Calculate the logarithm of each element of v1\n",
    "# TIP: check if you can do this using some numpy function!\n",
    "\n",
    "#<------------INSERT CODE HERE------------>\n",
    "#print(v1 + [np.arange(5)]) - throws error due to different sizes\n",
    "print(np.log(v1))"
   ]
  },
  {
   "cell_type": "markdown",
   "metadata": {},
   "source": [
    "### Multiplication of vectors\n",
    "\n",
    "There are a number of functions in numpy that you can use to multiply vectors and matrices.\n",
    "\n",
    "Scalar product of two vectors: np.dot(vector1, vector2)\n",
    "\n",
    "Vector product of two vectors: np.cross(x, y)"
   ]
  },
  {
   "cell_type": "code",
   "execution_count": 104,
   "metadata": {},
   "outputs": [
    {
     "name": "stdout",
     "output_type": "stream",
     "text": [
      "260\n",
      "260\n",
      "True\n",
      "My function: 0.0\n",
      "Numpy function: 0.0\n"
     ]
    }
   ],
   "source": [
    "# Calculate the scalar product of v1 and v2 using your function from part 1 and the numpy function.\n",
    "#<------------INSERT CODE HERE------------>\n",
    "np_result = np.dot(v1, v2)\n",
    "my_result = scalar_product(v1, v2)\n",
    "print(np_result)\n",
    "print(my_result)\n",
    "\n",
    "# Check if the result is the same using your function from Part 1\n",
    "\n",
    "#<------------INSERT CODE HERE------------>\n",
    "print(np_result == my_result)\n",
    "\n",
    "v3 = np.random.randn(4000)\n",
    "v4 = np.random.randn(4000)\n",
    "# Calculate the scalar product of v3 and v4 using your function from part 1 and the numpy function.\n",
    "# Compare the time it takes to execute each of them.\n",
    "# HINT: https://stackoverflow.com/questions/7370801/measure-time-elapsed-in-python\n",
    "\n",
    "#<------------INSERT CODE HERE------------>\n",
    "import time\n",
    "\n",
    "start1 = time.time()\n",
    "my_result = scalar_product(v3, v4)\n",
    "end1 = time.time()\n",
    "print(\"My function:\", end1 - start1)\n",
    "\n",
    "start2 = time.time()\n",
    "np_result = np.dot(v3, v4)\n",
    "end2 = time.time()\n",
    "print(\"Numpy function:\", end2 - start2)"
   ]
  },
  {
   "cell_type": "code",
   "execution_count": 106,
   "metadata": {},
   "outputs": [
    {
     "name": "stdout",
     "output_type": "stream",
     "text": [
      "260\n"
     ]
    }
   ],
   "source": [
    "# Calculate the vector product of v1 and v2 using the numpy function.\n",
    "\n",
    "#<------------INSERT CODE HERE------------>\n",
    "print(np.matmul(v1, v2))"
   ]
  },
  {
   "cell_type": "markdown",
   "metadata": {},
   "source": [
    "### Matrix multiplication\n",
    "\n",
    "This can be done on numpy using: np.matmul(a, b)"
   ]
  },
  {
   "cell_type": "code",
   "execution_count": 111,
   "metadata": {},
   "outputs": [
    {
     "name": "stdout",
     "output_type": "stream",
     "text": [
      "My result: 0.0\n",
      "Numpy result: 0.0\n",
      "Are the results the same?: [[ True  True]\n",
      " [ True  True]]\n",
      "[[30, 30], [30, 30]]\n",
      "[[30 30]\n",
      " [30 30]]\n"
     ]
    }
   ],
   "source": [
    "# Check the result of multiplying mat1 and mat2 using the numpy function and the one you created in part 1.\n",
    "# Check the execution time for each of them. Which one is faster? \n",
    "\n",
    "#<------------INSERT CODE HERE------------>\n",
    "start = time.time()\n",
    "my_result = matrix_multiplication(mat1, mat2)\n",
    "end = time.time()\n",
    "print(\"My result:\", end - start)\n",
    "\n",
    "start = time.time()\n",
    "np_result = np.matmul(mat1, mat2)\n",
    "end = time.time()\n",
    "print(\"Numpy result:\", end - start)\n",
    "# Is it the same result?\n",
    "\n",
    "#<------------INSERT CODE HERE------------>\n",
    "print(\"Are the results the same?:\", my_result == np_result)\n",
    "print(my_result)\n",
    "print(np_result)"
   ]
  },
  {
   "cell_type": "markdown",
   "metadata": {},
   "source": [
    "**Plotting a function**"
   ]
  },
  {
   "cell_type": "code",
   "execution_count": 112,
   "metadata": {},
   "outputs": [],
   "source": [
    "import matplotlib.pyplot as plt"
   ]
  },
  {
   "cell_type": "code",
   "execution_count": 118,
   "metadata": {},
   "outputs": [
    {
     "data": {
      "image/png": "[encoded data removed]",
      "text/plain": [
       "<Figure size 432x288 with 1 Axes>"
      ]
     },
     "metadata": {},
     "output_type": "display_data"
    }
   ],
   "source": [
    "t = np.linspace(-np.pi, np.pi, 201)\n",
    "my_sin = np.sin(1/4*np.pi*t)\n",
    "plt.figure()\n",
    "plt.plot(t, my_sin)\n",
    "plt.xlabel(\"Time\")\n",
    "plt.ylabel(\"sin(1/4*pi*t)\")\n",
    "plt.title(\"Sinusoidal function\")\n",
    "plt.show()"
   ]
  },
  {
   "cell_type": "code",
   "execution_count": 119,
   "metadata": {},
   "outputs": [
    {
     "name": "stdout",
     "output_type": "stream",
     "text": [
      "0.9999652192542031\n",
      "-0.9999652192542031\n",
      "[1 4 5 8 9]\n",
      "[0 3 3 7 7]\n"
     ]
    }
   ],
   "source": [
    "print(np.max(my_sin))\n",
    "print(np.min(my_sin))\n",
    "\n",
    "## Elementwise minimum and maximum\n",
    "arr1 = np.array([1, 3, 5, 7, 9])\n",
    "arr2 = np.array([0, 4, 3, 8, 7])\n",
    "print(np.maximum(arr1, arr2))\n",
    "print(np.minimum(arr1, arr2))"
   ]
  },
  {
   "cell_type": "code",
   "execution_count": 120,
   "metadata": {
    "scrolled": true
   },
   "outputs": [
    {
     "name": "stdout",
     "output_type": "stream",
     "text": [
      "-0.018109553801188567\n",
      "-0.017636507156625014\n",
      "1.000212155452743\n"
     ]
    }
   ],
   "source": [
    "# Statistical summaries \n",
    "\n",
    "print(np.mean(randn))\n",
    "print(np.median(randn))\n",
    "print(np.std(randn))\n",
    "\n"
   ]
  },
  {
   "cell_type": "markdown",
   "metadata": {},
   "source": [
    "Create a 5 (channels) x 100 (samples) matrix of random integers between 0 and 543 and retrieve the following information:\n",
    "    - the max, min, mean of all samples.\n",
    "    - the mean and variance of each channel\n"
   ]
  },
  {
   "cell_type": "code",
   "execution_count": 125,
   "metadata": {},
   "outputs": [
    {
     "name": "stdout",
     "output_type": "stream",
     "text": [
      "Max: 542\n",
      "Min: 0\n",
      "Mean: 265.648\n",
      "\n",
      "Channels mean: [275.32 251.7  276.19 275.09 249.94]\n",
      "Channels variance: [27048.3976 25932.87   23728.3739 21588.3219 22788.3564]\n"
     ]
    }
   ],
   "source": [
    "#<------------INSERT CODE HERE------------>\n",
    "my_rand = np.random.randint(544, size=(5,100))\n",
    "\n",
    "print(\"Max:\", np.max(my_rand))\n",
    "print(\"Min:\", np.min(my_rand))\n",
    "print(\"Mean:\", np.mean(my_rand))\n",
    "print()\n",
    "print(\"Channels mean:\", np.mean(my_rand, 1))\n",
    "print(\"Channels variance:\", np.var(my_rand, 1))"
   ]
  },
  {
   "cell_type": "markdown",
   "metadata": {},
   "source": [
    "Use the function hist() from matplotlib to show the histogram of values of the third channel."
   ]
  },
  {
   "cell_type": "code",
   "execution_count": 139,
   "metadata": {},
   "outputs": [
    {
     "data": {
      "text/plain": [
       "(array([0.00148148, 0.00111111, 0.00148148, 0.00296296, 0.00111111,\n",
       "        0.00259259, 0.00185185, 0.00185185, 0.00148148, 0.00296296,\n",
       "        0.00185185, 0.00259259, 0.00185185, 0.00074074, 0.00111111,\n",
       "        0.00259259, 0.00074074, 0.00259259, 0.00074074, 0.00333333]),\n",
       " array([  2.,  29.,  56.,  83., 110., 137., 164., 191., 218., 245., 272.,\n",
       "        299., 326., 353., 380., 407., 434., 461., 488., 515., 542.]),\n",
       " <a list of 20 Patch objects>)"
      ]
     },
     "execution_count": 139,
     "metadata": {},
     "output_type": "execute_result"
    },
    {
     "data": {
      "image/png": "[encoded data removed]",
      "text/plain": [
       "<Figure size 432x288 with 1 Axes>"
      ]
     },
     "metadata": {},
     "output_type": "display_data"
    }
   ],
   "source": [
    "plt.hist(my_rand[2], density=True, bins=20)"
   ]
  },
  {
   "cell_type": "code",
   "execution_count": null,
   "metadata": {},
   "outputs": [],
   "source": []
  }
 ],
 "metadata": {
  "kernelspec": {
   "display_name": "Python 3",
   "language": "python",
   "name": "python3"
  },
  "language_info": {
   "codemirror_mode": {
    "name": "ipython",
    "version": 3
   },
   "file_extension": ".py",
   "mimetype": "text/x-python",
   "name": "python",
   "nbconvert_exporter": "python",
   "pygments_lexer": "ipython3",
   "version": "3.7.1"
  }
 },
 "nbformat": 4,
 "nbformat_minor": 2
}
